{
 "cells": [
  {
   "cell_type": "code",
   "execution_count": null,
   "metadata": {},
   "outputs": [],
   "source": [
    "import glob\n",
    "import os \n",
    "\n",
    "# list all csv files only\n",
    "csv_files = glob.glob('D:\\Raashid stuff\\OMSA\\MGT 6203\\Project\\source data\\Flat\\*.{}'.format('csv'))\n",
    "\n",
    "csv_files"
   ]
  },
  {
   "cell_type": "code",
   "execution_count": null,
   "metadata": {},
   "outputs": [],
   "source": [
    "import pandas as pd\n",
    "\n",
    "prior_schema = pd.read_csv('D:\\\\Raashid stuff\\\\OMSA\\\\MGT 6203\\\\Project\\\\source data\\\\Flat\\\\201805-capitalbikeshare-tripdata.csv')\n",
    "\n",
    "print(prior_schema.columns)"
   ]
  },
  {
   "cell_type": "code",
   "execution_count": null,
   "metadata": {},
   "outputs": [],
   "source": [
    "standard_cols = ['Duration', 'Start date', 'End date', 'Start station number',\n",
    "       'Start station', 'End station number', 'End station', 'Member type']"
   ]
  },
  {
   "cell_type": "code",
   "execution_count": null,
   "metadata": {},
   "outputs": [],
   "source": [
    "master_dataset = pd.DataFrame()\n",
    " \n",
    "# append the CSV files\n",
    "for file in csv_files:\n",
    "    df = pd.read_csv(file)\n",
    "    master_dataset = master_dataset.append(df[standard_cols], ignore_index=True)\n",
    " "
   ]
  },
  {
   "cell_type": "code",
   "execution_count": null,
   "metadata": {},
   "outputs": [],
   "source": [
    "master_dataset.to_csv(\"master_dataset.csv\")"
   ]
  },
  {
   "cell_type": "code",
   "execution_count": null,
   "metadata": {},
   "outputs": [],
   "source": [
    "import pandas as pd\n",
    "\n",
    "df = pd.read_csv(\"master_dataset.csv\")"
   ]
  }
 ],
 "metadata": {
  "kernelspec": {
   "display_name": "Python 3",
   "language": "python",
   "name": "python3"
  },
  "language_info": {
   "codemirror_mode": {
    "name": "ipython",
    "version": 3
   },
   "file_extension": ".py",
   "mimetype": "text/x-python",
   "name": "python",
   "nbconvert_exporter": "python",
   "pygments_lexer": "ipython3",
   "version": "3.10.2"
  }
 },
 "nbformat": 4,
 "nbformat_minor": 2
}
