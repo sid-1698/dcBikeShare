{
 "cells": [
  {
   "cell_type": "code",
   "execution_count": 1,
   "metadata": {},
   "outputs": [],
   "source": [
    "import json\n",
    "import requests\n",
    "import pandas as pd\n",
    "baseUrl = \"https://archive-api.open-meteo.com/v1/era5\"\n",
    "stationFile = \"./data/stationData.json\"\n",
    "\n",
    "with open(f\"./{stationFile}\", \"r\") as file:\n",
    "    stationData = json.load(file)\n",
    "stationData = pd.DataFrame(stationData[\"data\"][\"stations\"])\n",
    "lat = stationData[\"lat\"].mean()\n",
    "lon = stationData[\"lon\"].mean()\n",
    "startDate = \"2015-01-01\"\n",
    "endDate = \"2020-12-31\"\n",
    "variables = [\"temperature_2m\", \"relativehumidity_2m\" ,\"precipitation\" ,\"windspeed_10m\"]\n",
    "\n",
    "body = f\"latitude={lat}&longitude={lon}&start_date={startDate}&end_date={endDate}&hourly={','.join(variables)}\"\n",
    "url = f\"{baseUrl}?{body}\"\n",
    "\n",
    "response = requests.get(f\"{baseUrl}?{body}\")\n",
    "weatherJson = response.json()\n",
    "weatherData = pd.DataFrame(weatherJson[\"hourly\"])\n",
    "del weatherJson[\"hourly\"]\n",
    "weatherDataMeta = weatherJson"
   ]
  },
  {
   "cell_type": "code",
   "execution_count": 2,
   "metadata": {},
   "outputs": [],
   "source": [
    "weatherData.to_csv(\"./WeatherData_Master.csv\")"
   ]
  },
  {
   "cell_type": "code",
   "execution_count": 3,
   "metadata": {},
   "outputs": [
    {
     "data": {
      "text/html": [
       "<div>\n",
       "<style scoped>\n",
       "    .dataframe tbody tr th:only-of-type {\n",
       "        vertical-align: middle;\n",
       "    }\n",
       "\n",
       "    .dataframe tbody tr th {\n",
       "        vertical-align: top;\n",
       "    }\n",
       "\n",
       "    .dataframe thead th {\n",
       "        text-align: right;\n",
       "    }\n",
       "</style>\n",
       "<table border=\"1\" class=\"dataframe\">\n",
       "  <thead>\n",
       "    <tr style=\"text-align: right;\">\n",
       "      <th></th>\n",
       "      <th>time</th>\n",
       "      <th>temperature_2m</th>\n",
       "      <th>relativehumidity_2m</th>\n",
       "      <th>precipitation</th>\n",
       "      <th>windspeed_10m</th>\n",
       "    </tr>\n",
       "  </thead>\n",
       "  <tbody>\n",
       "    <tr>\n",
       "      <th>0</th>\n",
       "      <td>2015-01-01T00:00</td>\n",
       "      <td>-3.0</td>\n",
       "      <td>65</td>\n",
       "      <td>0.0</td>\n",
       "      <td>8.0</td>\n",
       "    </tr>\n",
       "    <tr>\n",
       "      <th>1</th>\n",
       "      <td>2015-01-01T01:00</td>\n",
       "      <td>-3.1</td>\n",
       "      <td>65</td>\n",
       "      <td>0.0</td>\n",
       "      <td>7.7</td>\n",
       "    </tr>\n",
       "    <tr>\n",
       "      <th>2</th>\n",
       "      <td>2015-01-01T02:00</td>\n",
       "      <td>-3.1</td>\n",
       "      <td>65</td>\n",
       "      <td>0.0</td>\n",
       "      <td>9.2</td>\n",
       "    </tr>\n",
       "    <tr>\n",
       "      <th>3</th>\n",
       "      <td>2015-01-01T03:00</td>\n",
       "      <td>-3.1</td>\n",
       "      <td>65</td>\n",
       "      <td>0.0</td>\n",
       "      <td>9.4</td>\n",
       "    </tr>\n",
       "    <tr>\n",
       "      <th>4</th>\n",
       "      <td>2015-01-01T04:00</td>\n",
       "      <td>-3.6</td>\n",
       "      <td>66</td>\n",
       "      <td>0.0</td>\n",
       "      <td>9.0</td>\n",
       "    </tr>\n",
       "    <tr>\n",
       "      <th>...</th>\n",
       "      <td>...</td>\n",
       "      <td>...</td>\n",
       "      <td>...</td>\n",
       "      <td>...</td>\n",
       "      <td>...</td>\n",
       "    </tr>\n",
       "    <tr>\n",
       "      <th>52603</th>\n",
       "      <td>2020-12-31T19:00</td>\n",
       "      <td>8.3</td>\n",
       "      <td>77</td>\n",
       "      <td>0.1</td>\n",
       "      <td>9.8</td>\n",
       "    </tr>\n",
       "    <tr>\n",
       "      <th>52604</th>\n",
       "      <td>2020-12-31T20:00</td>\n",
       "      <td>7.5</td>\n",
       "      <td>81</td>\n",
       "      <td>0.3</td>\n",
       "      <td>12.1</td>\n",
       "    </tr>\n",
       "    <tr>\n",
       "      <th>52605</th>\n",
       "      <td>2020-12-31T21:00</td>\n",
       "      <td>6.6</td>\n",
       "      <td>84</td>\n",
       "      <td>0.3</td>\n",
       "      <td>12.4</td>\n",
       "    </tr>\n",
       "    <tr>\n",
       "      <th>52606</th>\n",
       "      <td>2020-12-31T22:00</td>\n",
       "      <td>5.7</td>\n",
       "      <td>87</td>\n",
       "      <td>0.2</td>\n",
       "      <td>11.2</td>\n",
       "    </tr>\n",
       "    <tr>\n",
       "      <th>52607</th>\n",
       "      <td>2020-12-31T23:00</td>\n",
       "      <td>4.8</td>\n",
       "      <td>91</td>\n",
       "      <td>0.3</td>\n",
       "      <td>9.4</td>\n",
       "    </tr>\n",
       "  </tbody>\n",
       "</table>\n",
       "<p>52608 rows × 5 columns</p>\n",
       "</div>"
      ],
      "text/plain": [
       "                   time  temperature_2m  relativehumidity_2m  precipitation  \\\n",
       "0      2015-01-01T00:00            -3.0                   65            0.0   \n",
       "1      2015-01-01T01:00            -3.1                   65            0.0   \n",
       "2      2015-01-01T02:00            -3.1                   65            0.0   \n",
       "3      2015-01-01T03:00            -3.1                   65            0.0   \n",
       "4      2015-01-01T04:00            -3.6                   66            0.0   \n",
       "...                 ...             ...                  ...            ...   \n",
       "52603  2020-12-31T19:00             8.3                   77            0.1   \n",
       "52604  2020-12-31T20:00             7.5                   81            0.3   \n",
       "52605  2020-12-31T21:00             6.6                   84            0.3   \n",
       "52606  2020-12-31T22:00             5.7                   87            0.2   \n",
       "52607  2020-12-31T23:00             4.8                   91            0.3   \n",
       "\n",
       "       windspeed_10m  \n",
       "0                8.0  \n",
       "1                7.7  \n",
       "2                9.2  \n",
       "3                9.4  \n",
       "4                9.0  \n",
       "...              ...  \n",
       "52603            9.8  \n",
       "52604           12.1  \n",
       "52605           12.4  \n",
       "52606           11.2  \n",
       "52607            9.4  \n",
       "\n",
       "[52608 rows x 5 columns]"
      ]
     },
     "execution_count": 3,
     "metadata": {},
     "output_type": "execute_result"
    }
   ],
   "source": [
    "weatherData"
   ]
  },
  {
   "cell_type": "code",
   "execution_count": 16,
   "metadata": {},
   "outputs": [],
   "source": []
  },
  {
   "cell_type": "code",
   "execution_count": 28,
   "metadata": {},
   "outputs": [],
   "source": []
  },
  {
   "cell_type": "code",
   "execution_count": 54,
   "metadata": {},
   "outputs": [],
   "source": [
    "body2 = {\n",
    "    \"latitude\": lat,\n",
    "    \"longitude\": lon,\n",
    "    \"start_date\": startDate,\n",
    "    \"end_date\": endDate,\n",
    "    \"hourly\": \",\".join(variables)\n",
    "}"
   ]
  },
  {
   "cell_type": "code",
   "execution_count": 66,
   "metadata": {},
   "outputs": [],
   "source": []
  },
  {
   "cell_type": "code",
   "execution_count": 83,
   "metadata": {},
   "outputs": [],
   "source": []
  },
  {
   "cell_type": "code",
   "execution_count": 85,
   "metadata": {},
   "outputs": [
    {
     "data": {
      "text/plain": [
       "{'latitude': 38.90001,\n",
       " 'longitude': -77.1,\n",
       " 'generationtime_ms': 5.3299665451049805,\n",
       " 'utc_offset_seconds': 0,\n",
       " 'timezone': 'GMT',\n",
       " 'timezone_abbreviation': 'GMT',\n",
       " 'elevation': 51.0,\n",
       " 'hourly_units': {'time': 'iso8601',\n",
       "  'temperature_2m': '°C',\n",
       "  'relativehumidity_2m': '%',\n",
       "  'precipitation': 'mm',\n",
       "  'windspeed_10m': 'km/h'}}"
      ]
     },
     "execution_count": 85,
     "metadata": {},
     "output_type": "execute_result"
    }
   ],
   "source": [
    "weatherDataMeta"
   ]
  },
  {
   "cell_type": "code",
   "execution_count": 98,
   "metadata": {},
   "outputs": [],
   "source": [
    "days = (pd.to_datetime(endDate) - pd.to_datetime(startDate)).days\n",
    "hours = days*24"
   ]
  },
  {
   "cell_type": "code",
   "execution_count": 99,
   "metadata": {},
   "outputs": [
    {
     "data": {
      "text/plain": [
       "52584"
      ]
     },
     "execution_count": 99,
     "metadata": {},
     "output_type": "execute_result"
    }
   ],
   "source": [
    "hours"
   ]
  },
  {
   "cell_type": "code",
   "execution_count": 100,
   "metadata": {},
   "outputs": [
    {
     "data": {
      "text/plain": [
       "52608"
      ]
     },
     "execution_count": 100,
     "metadata": {},
     "output_type": "execute_result"
    }
   ],
   "source": [
    "len(weatherData)"
   ]
  },
  {
   "cell_type": "code",
   "execution_count": null,
   "metadata": {},
   "outputs": [],
   "source": []
  }
 ],
 "metadata": {
  "kernelspec": {
   "display_name": "Python 3",
   "language": "python",
   "name": "python3"
  },
  "language_info": {
   "codemirror_mode": {
    "name": "ipython",
    "version": 3
   },
   "file_extension": ".py",
   "mimetype": "text/x-python",
   "name": "python",
   "nbconvert_exporter": "python",
   "pygments_lexer": "ipython3",
   "version": "3.11.4"
  },
  "orig_nbformat": 4
 },
 "nbformat": 4,
 "nbformat_minor": 2
}
