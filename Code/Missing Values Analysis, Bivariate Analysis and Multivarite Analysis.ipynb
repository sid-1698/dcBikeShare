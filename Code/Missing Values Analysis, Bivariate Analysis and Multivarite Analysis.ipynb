{
 "cells": [
  {
   "cell_type": "code",
   "execution_count": null,
   "id": "initial_id",
   "metadata": {
    "collapsed": true
   },
   "outputs": [],
   "source": [
    "import pandas as pd\n",
    "import scipy.stats as stats"
   ]
  },
  {
   "cell_type": "code",
   "execution_count": null,
   "outputs": [],
   "source": [
    "# Read CSV\n",
    "file_path = 'MasterDataset_WithWeatherAndEvent.csv'\n",
    "data = pd.read_csv(file_path, dtype={\"holiday\": str})"
   ],
   "metadata": {
    "collapsed": false
   },
   "id": "371b89fb86e2478f"
  },
  {
   "cell_type": "code",
   "execution_count": null,
   "outputs": [],
   "source": [
    "# Missing Values Analysis\n",
    "def analyze_missing_values_v2(file_path, chunk_size=1000000):\n",
    "    chunks = pd.read_csv(file_path, chunksize=chunk_size)\n",
    "    total_missing_values = None\n",
    "\n",
    "    for chunk in chunks:\n",
    "        missing_values = chunk.isnull().sum()\n",
    "        if total_missing_values is None:\n",
    "            total_missing_values = missing_values\n",
    "        else:\n",
    "            total_missing_values += missing_values\n",
    "\n",
    "    # Calculate the percentage of missing values\n",
    "    missing_values_summary = pd.DataFrame(total_missing_values, columns=['Missing Count'])\n",
    "    total_rows = sum(1 for row in open(file_path))\n",
    "    missing_values_summary['Percentage (%)'] = (missing_values_summary['Missing Count'] / total_rows) * 100\n",
    "\n",
    "    return missing_values_summary.sort_values(by='Missing Count', ascending=False)"
   ],
   "metadata": {
    "collapsed": false
   },
   "id": "3e7051992605b016"
  },
  {
   "cell_type": "code",
   "execution_count": null,
   "outputs": [],
   "source": [
    "# Analyze the missing values in the dataset again\n",
    "missing_values_info_v2 = analyze_missing_values_v2(\"MasterDataset_WithWeatherAndEvent.csv\")\n",
    "missing_values_info_v2"
   ],
   "metadata": {
    "collapsed": false
   },
   "id": "5f86af9e5d306e8c"
  },
  {
   "cell_type": "code",
   "execution_count": null,
   "outputs": [],
   "source": [
    "# Define functions that handle missing values across the entire dataset\n",
    "def process_missing_values_whole(file_path, output_path):\n",
    "    # Read the entire data set\n",
    "    data = pd.read_csv(file_path)\n",
    "\n",
    "    # Calculate the mode of related columns to fill in missing values\n",
    "    end_station_number_mode = data['End station number'].mode()[0]\n",
    "    end_station_mode = data['End station'].mode()[0]\n",
    "    start_station_number_mode = data['Start station number'].mode()[0]\n",
    "    start_station_mode = data['Start station'].mode()[0]\n",
    "\n",
    "    # Fill missing values using the mode calculated above and the specified string\n",
    "    data['holiday'].fillna(\"Not a holiday\",\n",
    "                           inplace=True)  # Fill missing values of 'holiday' column using \"Not a holiday\"\n",
    "    data_cleaned = data.dropna(subset=df.columns.difference(['holiday']))\n",
    "    data['End station number'].fillna(end_station_number_mode,\n",
    "                                      inplace=True)  # Fill missing values of 'End station number' column using mode\n",
    "    data['End station'].fillna(end_station_mode, inplace=True)  # Fill missing values of 'End station' column using mode\n",
    "    data['Start station number'].fillna(start_station_number_mode,\n",
    "                                        inplace=True)  # Fill missing values of 'Start station number' column using mode\n",
    "    data['Start station'].fillna(start_station_mode,\n",
    "                                 inplace=True)  # Fill missing values of 'Start station' column using mode\n",
    "\n",
    "    # Save the processed data to the specified output path\n",
    "    data.to_csv(output_path, index=False)\n"
   ],
   "metadata": {
    "collapsed": false
   },
   "id": "9f7d38fcabf2fc70"
  },
  {
   "cell_type": "code",
   "execution_count": null,
   "outputs": [],
   "source": [
    "# process the data and save it\n",
    "output_path_whole = \"processed_sample_whole2.csv\"\n",
    "process_missing_values_whole(\"sample.csv\", output_path_whole)"
   ],
   "metadata": {
    "collapsed": false
   },
   "id": "d1b14ce3c9aa5b34"
  },
  {
   "cell_type": "code",
   "execution_count": null,
   "outputs": [],
   "source": [
    "# Analyze the missing values in the dataset again\n",
    "missing_values_info_v2 = analyze_missing_values_v2(\"sample.csv\")\n",
    "missing_values_info_v2"
   ],
   "metadata": {
    "collapsed": false
   },
   "id": "5698ce96dad5580f"
  },
  {
   "cell_type": "code",
   "execution_count": null,
   "outputs": [],
   "source": [
    "#Bivariate Analysis\n",
    "# Convert start date, end date and date columns into datetime objects\n",
    "data['Start date'] = pd.to_datetime(data['Start date'])\n",
    "data['End date'] = pd.to_datetime(data['End date'])\n",
    "data['date'] = pd.to_datetime(data['date'])"
   ],
   "metadata": {
    "collapsed": false
   },
   "id": "4d4b0a3a6abc4e3e"
  },
  {
   "cell_type": "code",
   "execution_count": null,
   "outputs": [],
   "source": [
    "# Extract temporal features\n",
    "# Extract hour, day of week and month from start date\n",
    "data['hour'] = data['Start date'].dt.hour\n",
    "data['w_day'] = data['Start date'].dt.dayofweek  \n",
    "data['month'] = data['Start date'].dt.month"
   ],
   "metadata": {
    "collapsed": false
   },
   "id": "1c053b2bd1d3ac94"
  },
  {
   "cell_type": "code",
   "execution_count": null,
   "outputs": [],
   "source": [
    "# Bivariate analysis\n",
    "# Group by hour, day of week and month, calculate the average riding time of each group\n",
    "hourly_avg_duration = data.groupby('hour')['Duration'].mean()\n",
    "weekly_avg_duration = data.groupby('w_day')['Duration'].mean()\n",
    "monthly_avg_duration = data.groupby('month')['Duration'].mean()"
   ],
   "metadata": {
    "collapsed": false
   },
   "id": "255e237e2c251873"
  },
  {
   "cell_type": "code",
   "execution_count": null,
   "outputs": [],
   "source": [
    "# Create a binary column representing weekends and then calculate the average ride time grouped\n",
    "data['isWeekend'] = data['w_day'].apply(lambda x: 1 if x >= 5 else 0)\n",
    "weekend_weekday_avg_duration = data.groupby('isWeekend')['Duration'].mean()"
   ],
   "metadata": {
    "collapsed": false
   },
   "id": "8470e9ee96803458"
  },
  {
   "cell_type": "code",
   "execution_count": null,
   "outputs": [],
   "source": [
    "# Create a binary column representing weekends and then calculate the average ride time grouped\n",
    "holiday_avg_duration = data.groupby('isHoliday')['Duration'].mean()"
   ],
   "metadata": {
    "collapsed": false
   },
   "id": "c8cb5214c3e55052"
  },
  {
   "cell_type": "code",
   "execution_count": null,
   "outputs": [],
   "source": [
    "# Analysis of the relationship between weather conditions and riding time\n",
    "# Calculate the Pearson correlation coefficient between weather variables and riding time\n",
    "correlation_temp = stats.pearsonr(data['temperature_2m'], data['Duration'])\n",
    "correlation_rain = stats.pearsonr(data['precipitation'], data['Duration'])\n",
    "correlation_humidity = stats.pearsonr(data['relativehumidity_2m'], data['Duration'])\n",
    "correlation_windspeed = stats.pearsonr(data['windspeed_10m'], data['Duration'])"
   ],
   "metadata": {
    "collapsed": false
   },
   "id": "837af638982b3ee9"
  },
  {
   "cell_type": "code",
   "execution_count": null,
   "outputs": [],
   "source": [
    "# Multivariate analysis\n",
    "# Distinguish between casual and member riders\n",
    "data['isCasual'] = data['Member type'].apply(lambda x: 1 if x == 'Casual' else 0)"
   ],
   "metadata": {
    "collapsed": false
   },
   "id": "246a947dcd5e6055"
  },
  {
   "cell_type": "code",
   "execution_count": null,
   "outputs": [],
   "source": [
    "# Define a function to calculate the average riding time of different rider types under specific conditions\n",
    "def avg_duration_by_group(df, group_by, condition_col, condition):\n",
    "    filtered = df[df[condition_col] == condition]\n",
    "    return filtered.groupby(group_by)['Duration'].mean()\n",
    "\n",
    "# Compare average ride times for recreational cyclists and members across a variety of weather conditions and time periods\n",
    "casual_member_comparison = {\n",
    "    'precipitation': avg_duration_by_group(data, 'isCasual', 'precipitation', 1),\n",
    "    'temperature': avg_duration_by_group(data, 'isCasual', 'temperature_2m', data['temperature_2m'].median()),\n",
    "    'humidity': avg_duration_by_group(data, 'isCasual', 'relativehumidity_2m', data['relativehumidity_2m'].median()),\n",
    "    'windspeed': avg_duration_by_group(data, 'isCasual', 'windspeed_10m', data['windspeed_10m'].median()),\n",
    "    'weekdays_weekends': avg_duration_by_group(data, 'isCasual', 'isWeekend', 1),\n",
    "    'holidays': avg_duration_by_group(data, 'isCasual', 'isHoliday', 1)\n",
    "}\n",
    "\n",
    "# Compare duration between casual riders and members with temperature\n",
    "temperature_comparison = {\n",
    "    'Casual': avg_duration_by_group(data, 'temperature_2m', 'isCasual', 1),\n",
    "    'Member': avg_duration_by_group(data, 'temperature_2m', 'isCasual', 0)\n",
    "}\n",
    "\n",
    "print(\"\\nComparison of Duration Between Casual Riders and Members with Temperature:\\n\", temperature_comparison)"
   ],
   "metadata": {
    "collapsed": false
   },
   "id": "ace64f9d94e480a7"
  },
  {
   "cell_type": "code",
   "execution_count": null,
   "outputs": [],
   "source": [
    "import matplotlib.pyplot as plt\n",
    "\n",
    "# Plotting the comparison\n",
    "plt.figure(figsize=(12, 6))\n",
    "plt.plot(temperature_comparison['Casual'], label='Casual', marker='o')\n",
    "plt.plot(temperature_comparison['Member'], label='Member', marker='o')\n",
    "\n",
    "plt.title('Comparison of Duration Between Casual Riders and Members with Temperature')\n",
    "plt.xlabel('Temperature')\n",
    "plt.ylabel('Average Duration')\n",
    "plt.legend()\n",
    "plt.grid(True)\n",
    "plt.show()"
   ],
   "metadata": {
    "collapsed": false
   },
   "id": "e26c0baab448ce60"
  },
  {
   "cell_type": "code",
   "execution_count": null,
   "outputs": [],
   "source": [
    "def multivariate_analysis(data, group_by, conditions):\n",
    "    results = {}\n",
    "    for condition in conditions:\n",
    "        grouped_data = data.groupby([group_by, condition]).mean()['Duration']\n",
    "        results[condition] = grouped_data.unstack()\n",
    "    return results\n",
    "\n",
    "conditions = ['precipitation', 'temperature_2m', 'relativehumidity_2m', 'windspeed_10m', 'w_day', 'isHoliday']\n",
    "\n",
    "multivariate_results = multivariate_analysis(data, 'Member type', conditions)"
   ],
   "metadata": {
    "collapsed": false
   },
   "id": "5e4521d575c7bd17"
  },
  {
   "cell_type": "code",
   "execution_count": null,
   "outputs": [],
   "source": [
    "def plot_multivariate_analysis(grouped_data, condition, title):\n",
    "    plt.figure(figsize=(15, 6))\n",
    "    sns.lineplot(data=grouped_data, markers=True, dashes=False)\n",
    "    plt.title(title)\n",
    "    plt.xlabel(condition)\n",
    "    plt.ylabel('Average Duration (seconds)')\n",
    "    plt.xticks(rotation=45)\n",
    "    plt.legend(title='Member Type')\n",
    "    plt.grid(True)\n",
    "    plt.show()\n",
    "\n",
    "\n",
    "plot_multivariate_analysis(multivariate_results['precipitation'], 'Precipitation (mm)', 'Average Duration vs Precipitation for Casual Riders and Members')\n",
    "\n",
    "print(correlations)"
   ],
   "metadata": {
    "collapsed": false
   },
   "id": "7f1e9a3f7f870967"
  }
 ],
 "metadata": {
  "kernelspec": {
   "display_name": "Python 3",
   "language": "python",
   "name": "python3"
  },
  "language_info": {
   "codemirror_mode": {
    "name": "ipython",
    "version": 2
   },
   "file_extension": ".py",
   "mimetype": "text/x-python",
   "name": "python",
   "nbconvert_exporter": "python",
   "pygments_lexer": "ipython2",
   "version": "2.7.6"
  }
 },
 "nbformat": 4,
 "nbformat_minor": 5
}
