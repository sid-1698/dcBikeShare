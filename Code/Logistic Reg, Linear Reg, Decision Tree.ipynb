{
 "cells": [
  {
   "cell_type": "code",
   "execution_count": null,
   "id": "a8833295",
   "metadata": {},
   "outputs": [],
   "source": [
    "import pandas as pd\n",
    "from sklearn.metrics import confusion_matrix, accuracy_score, precision_score, recall_score, f1_score, confusion_matrix, ConfusionMatrixDisplay, roc_curve, roc_auc_score, mean_squared_error, r2_score,, mean_absolute_error\n",
    "from sklearn.model_selection import train_test_split\n",
    "from sklearn.linear_model import LogisticRegression\n",
    "import statsmodels.api as sm\n",
    "import matplotlib.pyplot as plt\n",
    "from sklearn.tree import DecisionTreeRegressor,export_text\n",
    "from sklearn.preprocessing import OneHotEncoder"
   ]
  },
  {
   "cell_type": "code",
   "execution_count": null,
   "id": "b9ed1f18",
   "metadata": {},
   "outputs": [],
   "source": [
    "data =  pd.read_csv('MasterDataset_WithWeatherAndEvent.csv')\n",
    "\n",
    "data.head()\n",
    "len(data)"
   ]
  },
  {
   "cell_type": "code",
   "execution_count": null,
   "id": "93abc759",
   "metadata": {},
   "outputs": [],
   "source": [
    "data = data.drop(data.columns[[0,1,2]], axis=1)\n",
    "data = data.drop([\"date\", \"time\"], axis=1)\n",
    "data.head()\n",
    "len(data)"
   ]
  },
  {
   "cell_type": "code",
   "execution_count": null,
   "id": "27e852de",
   "metadata": {},
   "outputs": [],
   "source": [
    "print(f\"Total Number of rows: {len(data)}\")\n",
    "print(f\"Total number of null values: {data.isnull().sum().sum()}\")\n",
    "\n",
    "print(100*(data.isnull().sum())/len(data))"
   ]
  },
  {
   "cell_type": "code",
   "execution_count": null,
   "id": "16614773",
   "metadata": {},
   "outputs": [],
   "source": [
    "data['holiday'].fillna(\"Not a holiday\", inplace=True)\n",
    "data = data.dropna(how='any',axis=0)"
   ]
  },
  {
   "cell_type": "code",
   "execution_count": null,
   "id": "790baff4",
   "metadata": {
    "scrolled": true
   },
   "outputs": [],
   "source": [
    "print(len(data))\n",
    "data.head()"
   ]
  },
  {
   "cell_type": "code",
   "execution_count": null,
   "id": "3a063b38",
   "metadata": {},
   "outputs": [],
   "source": [
    "data[['Start date', 'End date']] = data[['Start date', 'End date']].apply(pd.to_datetime)\n",
    "data[['Start station', 'Start station number', 'End station','End station number', 'Member type', 'holiday']] = data[['Start station', 'Start station number', 'End station','End station number', 'Member type', 'holiday']].astype('category')\n",
    "data[[\"Duration\", \"temperature_2m\", \"relativehumidity_2m\", \"precipitation\", \"windspeed_10m\"]] = data[[\"Duration\", \"temperature_2m\", \"relativehumidity_2m\", \"precipitation\", \"windspeed_10m\"]].astype('float')\n",
    "data[\"isHoliday\"] = data[\"isHoliday\"].astype(\"boolean\")"
   ]
  },
  {
   "cell_type": "code",
   "execution_count": null,
   "id": "fb425d3a",
   "metadata": {},
   "outputs": [],
   "source": [
    "data[[\"year\", \"month\", \"m_day\", \"hour\"]] = data[\"Start date\"].apply(lambda x: x.timetuple()[0:4]).tolist()\n",
    "data[\"w_day\"] = data[\"Start date\"].apply(lambda x: x.weekday())"
   ]
  },
  {
   "cell_type": "code",
   "execution_count": null,
   "id": "de1ebc91",
   "metadata": {
    "scrolled": true
   },
   "outputs": [],
   "source": [
    "len(data)"
   ]
  },
  {
   "cell_type": "code",
   "execution_count": null,
   "id": "8d036894",
   "metadata": {},
   "outputs": [],
   "source": [
    "cols = [\"Duration\"] \n",
    "Q1 = data[cols].quantile(0.25)\n",
    "Q3 = data[cols].quantile(0.75)\n",
    "IQR = Q3 - Q1\n",
    "data = data[~((data[cols] < (Q1 - 1.5 * IQR)) |(data[cols] > (Q3 + 1.5 * IQR))).any(axis=1)]\n",
    "after_outlier = len(data)"
   ]
  },
  {
   "cell_type": "code",
   "execution_count": null,
   "id": "9ef3c2f6",
   "metadata": {
    "scrolled": true
   },
   "outputs": [],
   "source": [
    "print(len(data))"
   ]
  },
  {
   "cell_type": "code",
   "execution_count": null,
   "id": "e7569a31",
   "metadata": {},
   "outputs": [],
   "source": [
    "data[\"Member type\"] = data[\"Member type\"].str.lower()\n",
    "data = data[data[\"Start date\"].dt.year < 2020]"
   ]
  },
  {
   "cell_type": "code",
   "execution_count": null,
   "id": "6a00ce5f",
   "metadata": {},
   "outputs": [],
   "source": [
    "print(len(data[data['Duration'] <= 0]))\n"
   ]
  },
  {
   "cell_type": "code",
   "execution_count": null,
   "id": "cb804896",
   "metadata": {},
   "outputs": [],
   "source": [
    "print(f\"Total Number of rows: {len(data)}\")\n",
    "print(f\"Total number of null values: {data.isnull().sum().sum()}\")\n",
    "\n",
    "print(100*(data.isnull().sum())/len(data))"
   ]
  },
  {
   "cell_type": "code",
   "execution_count": null,
   "id": "28b04e0f",
   "metadata": {},
   "outputs": [],
   "source": [
    "selected_columns = ['Duration', 'isHoliday', 'month', 'm_day', 'hour', 'w_day', 'temperature_2m', 'relativehumidity_2m', 'precipitation', 'windspeed_10m']\n",
    "Xlog = data[selected_columns]\n",
    "ylog = data['Member type'].map({'casual': 0, 'member': 1})\n",
    "\n",
    "\n",
    "Xlog_train, Xlog_test, ylog_train, ylog_test = train_test_split(Xlog, ylog, test_size=0.3, random_state=65)\n",
    "\n",
    "model_log = LogisticRegression(solver='liblinear')\n",
    "fit = model_log.fit(Xlog_train, ylog_train)\n",
    "\n",
    "predictions_log = model_log.predict(Xlog_test)\n",
    "\n",
    "print(\"Accuracy:\", accuracy_score(ylog_test, predictions_log))\n",
    "\n"
   ]
  },
  {
   "cell_type": "code",
   "execution_count": null,
   "id": "c3edaa59",
   "metadata": {},
   "outputs": [],
   "source": [
    "Xlog = sm.add_constant(Xlog)  \n",
    "model_log1 = sm.Logit(ylog, Xlog)\n",
    "result = model_log1.fit()\n",
    "\n",
    "p_values = result.pvalues\n",
    "print(p_values)"
   ]
  },
  {
   "cell_type": "code",
   "execution_count": null,
   "id": "ca2e833f",
   "metadata": {},
   "outputs": [],
   "source": [
    "coefficients_log = model_log.coef_[0]  \n",
    "intercept_log = model_log.intercept_[0]\n",
    "\n",
    "precision = precision_score(ylog_test, predictions_log)\n",
    "\n",
    "print(\"Accuracy:\", accuracy_score(ylog_test, predictions_log))\n",
    "print(f\"Precision: {precision:.4f}\")\n",
    "print(f\"Sensitivity:\", recall_score(ylog_test, predictions_log))\n",
    "print()\n",
    "sorted(range(len(coefficients_log)), key=lambda k: abs(coefficients_log[k]), reverse=True)\n",
    "\n",
    "for index in sorted_indices:\n",
    "    feature = Xlog.columns[index]\n",
    "    coef = coefficients_log[index]\n",
    "    print(f\"{feature}: {coef}\")\n",
    "\n",
    "print()\n",
    "print(\"Intercept:\", intercept_log)"
   ]
  },
  {
   "cell_type": "code",
   "execution_count": null,
   "id": "d2dfa7bd",
   "metadata": {},
   "outputs": [],
   "source": [
    "coefficients_log = model_log.coef_[0]\n",
    "intercept_log = model_log.intercept_[0]\n",
    "\n",
    "precision = precision_score(ylog_test, predictions_log)\n",
    "\n",
    "print(\"\\nSorted Coefficients (Descending Order):\")\n",
    "sorted_indices = sorted(range(len(coefficients_log)), key=lambda k: abs(coefficients_log[k]), reverse=True)\n",
    "\n",
    "for index in sorted_indices:\n",
    "    feature = Xlog.columns[index]\n",
    "    coef = coefficients_log[index]\n",
    "    print(f\"{feature}: {coef}\")\n",
    "\n",
    "print(\"Intercept:\", intercept_log)\n"
   ]
  },
  {
   "cell_type": "code",
   "execution_count": null,
   "id": "93116822",
   "metadata": {},
   "outputs": [],
   "source": [
    "conf_matrix = confusion_matrix(ylog_test, predictions_log)\n",
    "\n",
    "disp = ConfusionMatrixDisplay(confusion_matrix=conf_matrix, display_labels=model_log.classes_)\n",
    "disp.plot()\n",
    "plt.title('Confusion Matrix')\n",
    "plt.show()"
   ]
  },
  {
   "cell_type": "code",
   "execution_count": null,
   "id": "2a26e4be",
   "metadata": {},
   "outputs": [],
   "source": [
    "TN, FP, FN, TP = conf_matrix.ravel()\n",
    "\n",
    "accuracy = accuracy_score(ylog_test, predictions_log)\n",
    "precision = precision_score(ylog_test, predictions_log, average='weighted')\n",
    "sensitivity = recall_score(ylog_test, predictions_log, average='weighted')\n",
    "\n",
    "print(\"\\nMetrics:\")\n",
    "print(f\"Accuracy: {accuracy:.4f}\")\n",
    "print(f\"Precision: {precision:.4f}\")\n",
    "print(f\"Sensitivity: {sensitivity:.4f}\")"
   ]
  },
  {
   "cell_type": "code",
   "execution_count": null,
   "id": "7a560a96",
   "metadata": {},
   "outputs": [],
   "source": [
    "y_probs = model_log.predict_proba(Xlog_test)[:, 1]\n",
    "y_test_binary = (ylog_test == 'member').astype(int)\n",
    "\n",
    "fpr, tpr, thresholds = roc_curve(y_test_binary, y_probs)\n",
    "\n",
    "roc_auc = roc_auc_score(y_test_binary, y_probs)\n",
    "\n",
    "plt.figure(figsize=(8, 6))\n",
    "plt.plot(fpr, tpr, color='blue', lw=2, label=f'ROC Curve (AUC = {roc_auc:.4f})')\n",
    "plt.plot([0, 1], [0, 1], color='gray', linestyle='--', lw=2, label='Random')\n",
    "plt.xlabel('False Positive Rate (FPR)')\n",
    "plt.ylabel('True Positive Rate (TPR)')\n",
    "plt.title('Receiver Operating Characteristic (ROC) Curve')\n",
    "plt.legend()\n",
    "plt.show()"
   ]
  },
  {
   "cell_type": "code",
   "execution_count": null,
   "id": "8db6b7d9",
   "metadata": {},
   "outputs": [],
   "source": [
    "features = ['month', 'm_day', 'hour', 'w_day', 'temperature_2m', 'relativehumidity_2m', 'precipitation', 'windspeed_10m', 'isHoliday']\n",
    "X_lin = data[features]\n",
    "y_lin = data['Duration']\n",
    "\n",
    "Xlin_train, Xlin_test, ylin_train, ylin_test = train_test_split(X_lin, y_lin, test_size=0.3, random_state=65)\n",
    "\n",
    "model_lin = LinearRegression()\n",
    "model_lin.fit(Xlin_train, ylin_train)\n",
    "\n",
    "predictions_lin = model_lin.predict(Xlin_test)\n",
    "\n",
    "mse_lin = mean_squared_error(ylin_test, predictions_lin)\n",
    "r2_lin = r2_score(ylin_test, predictions_lin)\n",
    "\n",
    "print(\"Model Evaluation:\")\n",
    "print(f\"Mean Squared Error (MSE): {mse_lin:.4f}\")\n",
    "print(f\"R-squared (R2): {r2_lin:.4f}\")\n",
    "\n",
    "plt.scatter(ylin_test, predictions_lin)\n",
    "plt.xlabel(\"Actual Duration\")\n",
    "plt.ylabel(\"Predicted Duration\")\n",
    "plt.title(\"Actual vs. Predicted Duration\")\n",
    "plt.show()"
   ]
  },
  {
   "cell_type": "code",
   "execution_count": null,
   "id": "7eba5cd3",
   "metadata": {},
   "outputs": [],
   "source": [
    "coefficients = model1.coef_\n",
    "coefficients"
   ]
  },
  {
   "cell_type": "code",
   "execution_count": null,
   "id": "a18f555e",
   "metadata": {},
   "outputs": [],
   "source": [
    "#Checking assumptions\n",
    "# Homoscedasticity\n",
    "residuals1 = y1_test - predictions1\n",
    "plt.scatter(predictions1, residuals1)\n",
    "plt.axhline(y=0, color='red', linestyle='--')\n",
    "plt.xlabel(\"Predicted Durations\")\n",
    "plt.ylabel(\"Residuals\")\n",
    "plt.title(\"Homoscedasticity Check\")\n",
    "plt.show()\n"
   ]
  },
  {
   "cell_type": "code",
   "execution_count": null,
   "id": "0f93d7b5",
   "metadata": {
    "scrolled": true
   },
   "outputs": [],
   "source": [
    "# Normality of Residuals\n",
    "sns.histplot(residuals1, kde=True)\n",
    "plt.xlabel(\"Residuals\")\n",
    "plt.ylabel(\"Frequency\")\n",
    "plt.title(\"Normality of Residuals Check\")\n",
    "plt.show()"
   ]
  },
  {
   "cell_type": "code",
   "execution_count": null,
   "id": "d36be716",
   "metadata": {},
   "outputs": [],
   "source": [
    "#model performance is very poor and the linearity assumptions dont hold so we will do some feature selection"
   ]
  },
  {
   "cell_type": "code",
   "execution_count": null,
   "id": "ad072d3a",
   "metadata": {},
   "outputs": [],
   "source": [
    "correlation_matrix = data.corr()\n",
    "\n",
    "plt.figure(figsize=(10, 6))\n",
    "sns.heatmap(correlation_matrix, annot=True, cmap='coolwarm', fmt=\".2f\")\n",
    "plt.title(\"Correlation Matrix\")\n",
    "plt.show()"
   ]
  },
  {
   "cell_type": "code",
   "execution_count": null,
   "id": "703ce3bd",
   "metadata": {},
   "outputs": [],
   "source": [
    "#will remove relative humidity because it has high correlation with hour"
   ]
  },
  {
   "cell_type": "code",
   "execution_count": null,
   "id": "93b2ecda",
   "metadata": {},
   "outputs": [],
   "source": [
    "data.shape()"
   ]
  },
  {
   "cell_type": "code",
   "execution_count": null,
   "id": "2d71d35d",
   "metadata": {},
   "outputs": [],
   "source": [
    "features2 = ['month', 'm_day', 'hour', 'w_day', 'temperature_2m', 'precipitation', 'windspeed_10m', 'isHoliday']\n",
    "X2 = data[features]\n",
    "y1 = data['Duration']\n",
    "\n",
    "X2_train, X2_test, y2_train, y2_test = train_test_split(X2, y1, test_size=0.3, random_state=65)\n",
    "\n",
    "model2 = LinearRegression()\n",
    "model2.fit(X2_train, y2_train)\n",
    "\n",
    "predictions2 = model2.predict(X2_test)\n",
    "\n",
    "mse_2 = mean_squared_error(y2_test, predictions2)\n",
    "r2_2= r2_score(y2_test, predictions2)\n",
    "\n",
    "print(\"Model Evaluation:\")\n",
    "print(f\"Mean Squared Error (MSE): {mse_2:.4f}\")\n",
    "print(f\"R-squared (R2): {r2_2:.4f}\")\n",
    "\n",
    "plt.scatter(y2_test, predictions2)\n",
    "plt.xlabel(\"Actual Duration\")\n",
    "plt.ylabel(\"Predicted Duration\")\n",
    "plt.title(\"Actual vs. Predicted Duration\")\n",
    "plt.show()"
   ]
  },
  {
   "cell_type": "code",
   "execution_count": null,
   "id": "1892746b",
   "metadata": {},
   "outputs": [],
   "source": [
    "y1 = data['Duration']\n",
    "X1 = data[['month', 'm_day', 'hour', 'w_day']]\n",
    "X1_train, X1_test, y1_train, y1_test = train_test_split(X1, y1, test_size=0.3, random_state=42)\n",
    "\n",
    "model1 = LinearRegression()\n",
    "\n",
    "model1.fit(X1_train, y1_train)\n",
    "\n",
    "y1_pred = model1.predict(X1_test)\n",
    "\n",
    "mse = mean_squared_error(y1_test, y1_pred)\n",
    "print(f'Mean Squared Error: {mse}')\n",
    "\n",
    "r2_linear = r2_score(y1_test, y1_pred)\n",
    "\n",
    "print(f'R-squared: {r2_linear}')"
   ]
  },
  {
   "cell_type": "code",
   "execution_count": null,
   "id": "3cb01c6e",
   "metadata": {},
   "outputs": [],
   "source": [
    "X_dt = data[features_dt]\n",
    "y_dt = data['Duration']\n",
    "\n",
    "cat_features = ['Member type', 'holiday']\n",
    "X_dt_cat = X_dt[cat_features]\n",
    "\n",
    "X_dt_non_cat = X_dt.drop(cat_features, axis=1)\n",
    "\n",
    "print(\"Length of X_dt:\", len(X_dt))\n",
    "print(\"Length of X_dt_cat:\", len(X_dt_cat))\n",
    "print(\"Length of X_dt_non_cat:\", len(X_dt_non_cat))"
   ]
  },
  {
   "cell_type": "code",
   "execution_count": null,
   "id": "ac991567",
   "metadata": {},
   "outputs": [],
   "source": [
    "encoder = OneHotEncoder(drop='first', sparse=False)\n",
    "X_dt_encoded = pd.DataFrame(encoder.fit_transform(X_dt_cat))\n",
    "encoded_columns = list(encoder.get_feature_names_out(cat_features))\n",
    "X_dt_encoded.columns = encoded_columns\n",
    "\n",
    "print(\"Length of X_dt_encoded:\", len(X_dt_encoded))"
   ]
  },
  {
   "cell_type": "code",
   "execution_count": null,
   "id": "7b045d3c",
   "metadata": {},
   "outputs": [],
   "source": [
    "X_dt_non_cat.reset_index(drop=True, inplace=True)\n",
    "X_dt_encoded.reset_index(drop=True, inplace=True)\n",
    "\n",
    "print(\"Length of X_dt_non_cat (after reset index):\", len(X_dt_non_cat))\n",
    "print(\"Length of X_dt_encoded (after reset index):\", len(X_dt_encoded))"
   ]
  },
  {
   "cell_type": "code",
   "execution_count": null,
   "id": "5e00cf6a",
   "metadata": {},
   "outputs": [],
   "source": [
    "features_dt= ['Start station number', 'End station number',  'Member type', 'temperature_2m', 'relativehumidity_2m', 'precipitation', 'windspeed_10m', 'holiday', 'isHoliday', 'month', 'm_day', 'hour', 'w_day']\n",
    "X_dt = data[features_dt]\n",
    "y_dt = data['Duration']\n",
    "\n",
    "cat_features = ['Member type', 'holiday']\n",
    "X_dt_cat = X_dt[cat_features]\n",
    "\n",
    "X_dt_non_cat = X_dt.drop(cat_features, axis=1)\n",
    "\n",
    "\n",
    "encoder = OneHotEncoder(drop='first', sparse=False)\n",
    "X_dt_encoded = pd.DataFrame(encoder.fit_transform(X_dt_cat))\n",
    "encoded_columns = list(encoder.get_feature_names_out(cat_features))\n",
    "X_dt_encoded.columns = encoded_columns\n",
    "\n",
    "\n",
    "X_dt_non_cat.reset_index(drop=True, inplace=True)\n",
    "X_dt_encoded.reset_index(drop=True, inplace=True)\n",
    "\n",
    "X_dt = pd.concat([X_dt_non_cat, X_dt_encoded], axis=1)\n",
    "\n",
    "Xdt_train, Xdt_test, ydt_train, ydt_test = train_test_split(X_dt, y_dt, test_size=0.3, random_state=42)\n",
    "\n",
    "model_dt = DecisionTreeRegressor(random_state=42)\n",
    "model_dt.fit(Xdt_train, ydt_train)\n",
    "\n",
    "ydt_pred = model_dt.predict(Xdt_test)\n",
    "\n",
    "mse_dt = mean_squared_error(ydt_test, ydt_pred)\n",
    "mae_dt = mean_absolute_error(ydt_test, ydt_pred)\n",
    "\n",
    "y_dt_pred = model_dt.predict(X_dt)\n",
    "\n",
    "r2 = r2_score(y_dt, y_dt_pred)\n",
    "\n",
    "print(f'R-squared: {r2}')\n",
    "\n",
    "print(f'Mean Squared Error: {mse_dt}')\n",
    "print(f'Mean Absolute Error: {mae_dt}')"
   ]
  },
  {
   "cell_type": "code",
   "execution_count": null,
   "id": "2f0eedc1",
   "metadata": {},
   "outputs": [],
   "source": [
    "feature_importances = tree_clf.feature_importances_\n",
    "\n",
    "num_features = 5\n",
    "top_features_indices = np.argsort(feature_importances)[-num_features:]\n",
    "top_feature_importances = feature_importances[top_features_indices]\n",
    "top_feature_names = Xdt_train.columns[top_features_indices]\n",
    "\n",
    "plt.barh(top_feature_names, top_feature_importances)\n",
    "plt.xlabel('Feature Importance')\n",
    "plt.title('Top Features by Importance')\n",
    "plt.show()"
   ]
  },
  {
   "cell_type": "code",
   "execution_count": null,
   "id": "b01dc86b",
   "metadata": {},
   "outputs": [],
   "source": [
    "feature_importances = model_dt.feature_importances_\n",
    "\n",
    "feature_importance_df = pd.DataFrame({'Feature': X_dt.columns, 'Importance': feature_importances})\n",
    "\n",
    "feature_importance_df = feature_importance_df.sort_values(by='Importance', ascending=False)\n",
    "\n",
    "print(\"Top Features:\")\n",
    "print(feature_importance_df)\n",
    "\n",
    "plt.figure(figsize=(10, 6))\n",
    "plt.bar(range(len(feature_importances)), feature_importances, align='center')\n",
    "plt.xticks(range(len(feature_importances)), X_dt.columns, rotation=90)\n",
    "plt.xlabel('Feature')\n",
    "plt.ylabel('Importance')\n",
    "plt.title('Feature Importances')\n",
    "plt.show()\n"
   ]
  },
  {
   "cell_type": "code",
   "execution_count": null,
   "id": "a86d0a8c",
   "metadata": {},
   "outputs": [],
   "source": [
    "\n",
    "top_features = ['End station number', 'Start station number', 'Member type_Member',\n",
    "                'temperature_2m', 'windspeed_10m', 'relativehumidity_2m',\n",
    "                'm_day', 'hour', 'w_day', 'month', 'year', 'precipitation',  'holiday_Not a holiday', 'isHoliday']\n",
    "\n",
    "X_dt_top_features = X_dt[top_features]\n",
    "\n",
    "Xdt_train_top, Xdt_test_top, ydt_train_top, ydt_test_top = train_test_split(X_dt_top_features, y_dt, test_size=0.3, random_state=42)\n",
    "\n",
    "model_dt_top_features = DecisionTreeRegressor(random_state=42)\n",
    "model_dt_top_features.fit(Xdt_train_top, ydt_train_top)\n",
    "\n",
    "ydt_pred_top_features = model_dt_top_features.predict(Xdt_test_top)\n",
    "\n",
    "mse_top_features = mean_squared_error(ydt_test_top, ydt_pred_top_features)\n",
    "mae_top_features = mean_absolute_error(ydt_test_top, ydt_pred_top_features)\n",
    "\n",
    "print(f'Mean Squared Error (Top Features): {mse_top_features}')\n",
    "print(f'Mean Absolute Error (Top Features): {mae_top_features}')"
   ]
  },
  {
   "cell_type": "code",
   "execution_count": null,
   "id": "5ad3371d",
   "metadata": {},
   "outputs": [],
   "source": [
    "r2_top_features = r2_score(ydt_test_top, ydt_pred_top_features)\n",
    "print(f'R-squared (Top Features): {r2_top_features}')\n"
   ]
  }
 ],
 "metadata": {
  "kernelspec": {
   "display_name": "Python 3 (ipykernel)",
   "language": "python",
   "name": "python3"
  },
  "language_info": {
   "codemirror_mode": {
    "name": "ipython",
    "version": 3
   },
   "file_extension": ".py",
   "mimetype": "text/x-python",
   "name": "python",
   "nbconvert_exporter": "python",
   "pygments_lexer": "ipython3",
   "version": "3.9.12"
  }
 },
 "nbformat": 4,
 "nbformat_minor": 5
}
