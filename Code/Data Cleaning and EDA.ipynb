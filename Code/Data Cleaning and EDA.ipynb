{
 "cells": [
  {
   "cell_type": "code",
   "execution_count": null,
   "id": "2af9b280",
   "metadata": {},
   "outputs": [
    {
     "name": "stderr",
     "output_type": "stream",
     "text": [
      "C:\\Users\\amyna\\AppData\\Local\\Temp\\ipykernel_20092\\2259706258.py:5: DtypeWarning: Columns (16) have mixed types. Specify dtype option on import or set low_memory=False.\n",
      "  data = pd.read_csv(file_path)\n"
     ]
    }
   ],
   "source": [
    "import pandas as pd\n",
    "\n",
    "file_path = \"MasterDataset_WithWeatherAndEvent.csv\"\n",
    "\n",
    "data = pd.read_csv(file_path)"
   ]
  },
  {
   "cell_type": "code",
   "execution_count": null,
   "id": "d179d494",
   "metadata": {},
   "outputs": [],
   "source": [
    "data.head()\n",
    "\n",
    "#first two columns look like index positions so I will be removing them\n"
   ]
  },
  {
   "cell_type": "code",
   "execution_count": null,
   "id": "be649b3b",
   "metadata": {},
   "outputs": [],
   "source": [
    "data = data.drop(data.columns[[0,1]], axis=1)\n",
    "data = data.drop([\"date\", \"time\"], axis=1)"
   ]
  },
  {
   "cell_type": "code",
   "execution_count": null,
   "id": "391bb5bf",
   "metadata": {},
   "outputs": [],
   "source": [
    "data['holiday'].fillna(\"Not a holiday\", inplace=True)\n",
    "data = data.dropna(how='any',axis=0)"
   ]
  },
  {
   "cell_type": "code",
   "execution_count": null,
   "id": "6a08ea5c",
   "metadata": {},
   "outputs": [],
   "source": [
    "data.head()"
   ]
  },
  {
   "cell_type": "code",
   "execution_count": null,
   "id": "3d553b4e",
   "metadata": {},
   "outputs": [],
   "source": [
    "data[['Start date', 'End date']] = data[['Start date', 'End date']].apply(pd.to_datetime)\n",
    "data[['Start station', 'Start station number', 'End station','End station number', 'Member type', 'holiday']] = data[['Start station', 'Start station number', 'End station','End station number', 'Member type', 'holiday']].astype('category')\n",
    "data[[\"Duration\", \"temperature_2m\", \"relativehumidity_2m\", \"precipitation\", \"windspeed_10m\"]] = data[[\"Duration\", \"temperature_2m\", \"relativehumidity_2m\", \"precipitation\", \"windspeed_10m\"]].astype('float')\n",
    "data[\"isHoliday\"] = data[\"isHoliday\"].astype(\"boolean\")"
   ]
  },
  {
   "cell_type": "code",
   "execution_count": null,
   "id": "523d264e",
   "metadata": {
    "scrolled": true
   },
   "outputs": [],
   "source": [
    "data[[\"year\", \"month\", \"m_day\", \"hour\"]] = data[\"Start date\"].apply(lambda x: x.timetuple()[0:4]).tolist()\n",
    "data[\"w_day\"] = data[\"Start date\"].apply(lambda x: x.weekday())"
   ]
  },
  {
   "cell_type": "code",
   "execution_count": null,
   "id": "5b62d5e5",
   "metadata": {},
   "outputs": [],
   "source": [
    "data[\"Member type\"] = data[\"Member type\"].str.lower()\n",
    "data = data[data[\"Start date\"].dt.year < 2020]"
   ]
  },
  {
   "cell_type": "code",
   "execution_count": null,
   "id": "8e1d4118",
   "metadata": {},
   "outputs": [],
   "source": [
    "non_negative = data['Duration'] >= 0\n",
    "\n",
    "chunks = []\n",
    "size = 1000\n",
    "\n",
    "for element in range (0, len(data), size):\n",
    "    item = element + size\n",
    "    segment = data[element:item]\n",
    "    chunk = segment[non_negative]\n",
    "    chunks.append(chunk)\n",
    "\n",
    "filtered = pd.concat(chunks)\n"
   ]
  },
  {
   "cell_type": "code",
   "execution_count": null,
   "id": "656b7d8a",
   "metadata": {},
   "outputs": [],
   "source": [
    "before_outlier = len(data)\n",
    "before_outlier"
   ]
  },
  {
   "cell_type": "code",
   "execution_count": null,
   "id": "166ce386",
   "metadata": {},
   "outputs": [],
   "source": [
    "cols = [\"Duration\"] #Numeric columns only\n",
    "Q1 = data[cols].quantile(0.25)\n",
    "Q3 = data[cols].quantile(0.75)\n",
    "IQR = Q3 - Q1\n",
    "data = data[~((data[cols] < (Q1 - 1.5 * IQR)) |(data[cols] > (Q3 + 1.5 * IQR))).any(axis=1)]"
   ]
  },
  {
   "cell_type": "code",
   "execution_count": null,
   "id": "77a03200",
   "metadata": {},
   "outputs": [],
   "source": [
    "after_outlier = len(data)\n",
    "\n",
    "no_of_outliers = before_outlier - after_outlier\n",
    "no_of_outliers"
   ]
  },
  {
   "cell_type": "code",
   "execution_count": null,
   "id": "a2dee46c",
   "metadata": {},
   "outputs": [],
   "source": [
    "#unable to convert some columns to string. will inspect more. \n",
    "mixed_type = data['holiday'].apply(lambda x: type(x) is not str)\n",
    "\n",
    "true_count = mixed_type[mixed_type].count()\n",
    "false_count = mixed_type[~mixed_type].count()\n",
    "\n",
    "print(true_count, false_count)\n",
    "\n",
    "#all vals are already string so we can leave it as object type"
   ]
  },
  {
   "cell_type": "code",
   "execution_count": null,
   "id": "94910515",
   "metadata": {},
   "outputs": [],
   "source": [
    "mixed_member = data['Member type'].apply(lambda x: type(x) is not str)\n",
    "\n",
    "true_member = mixed_member[mixed_member].count()\n",
    "false_member = mixed_member[~mixed_member].count()\n",
    "\n",
    "print(true_member, false_member)\n",
    "\n",
    "all vals are already string so we can leave it as object type"
   ]
  },
  {
   "cell_type": "code",
   "execution_count": null,
   "id": "30592592",
   "metadata": {},
   "outputs": [],
   "source": [
    "mixed_start = data['Start station'].apply(lambda x: type(x) is not str)\n",
    "\n",
    "true_start = mixed_start[mixed_start].count()\n",
    "false_start = mixed_start[~mixed_start].count()\n",
    "\n",
    "print(true_start, false_start)\n",
    "\n",
    "all vals are already string so we can leave it as object type"
   ]
  },
  {
   "cell_type": "code",
   "execution_count": null,
   "id": "616d5c99",
   "metadata": {},
   "outputs": [],
   "source": [
    "mixed_end = data['End station'].apply(lambda x: type(x) is not str)\n",
    "\n",
    "true_end = mixed_end[mixed_end].count()\n",
    "false_end = mixed_end[~mixed_end].count()\n",
    "\n",
    "print(true_end, false_end)\n",
    "\n",
    "all vals are already string so we can leave it as object type"
   ]
  },
  {
   "cell_type": "code",
   "execution_count": null,
   "id": "125cafdf",
   "metadata": {},
   "outputs": [],
   "source": [
    "import matplotlib.pyplot as plt\n",
    "\n",
    "plt.boxplot(data['Duration'])\n",
    "plt.show()\n",
    "\n",
    "#Some datapoints above 500000 and 1 below 0. will inspect more. "
   ]
  },
  {
   "cell_type": "code",
   "execution_count": null,
   "id": "3f2c8e1d",
   "metadata": {
    "scrolled": true
   },
   "outputs": [],
   "source": [
    "outliers= data[(data['Duration'] < 0) | (data['Duration'] > 500000)]\n",
    "\n",
    "outliers\n",
    "\n",
    "For now, we will leave the durations above 500,000 but remove the ones below 0 as negative duration is not possible\n",
    "Note: Timestamp doesn't contain minute and second information"
   ]
  },
  {
   "cell_type": "code",
   "execution_count": null,
   "id": "bc4b9d70",
   "metadata": {},
   "outputs": [],
   "source": [
    "Removing non-negative vals due to the size of the dataset\n",
    "\n",
    "non_negative\n",
    "\n",
    "    "
   ]
  },
  {
   "cell_type": "code",
   "execution_count": null,
   "id": "5b7a8e74",
   "metadata": {},
   "outputs": [],
   "source": [
    "#Duration stats\n",
    "\n",
    "duration_stats = data['Duration'].describe()\n",
    "duration_stats"
   ]
  },
  {
   "cell_type": "code",
   "execution_count": null,
   "id": "2f116970",
   "metadata": {},
   "outputs": [],
   "source": [
    "data['Duration'].plot(kind='hist', bins=20, edgecolor='black')\n",
    "plt.xlabel('Duration')\n",
    "plt.ylabel('Frequency')\n",
    "plt.title('Duration Histogram')\n",
    "plt.ticklabel_format(style='plain', axis = 'y')\n"
   ]
  },
  {
   "cell_type": "code",
   "execution_count": null,
   "id": "11fcb064",
   "metadata": {},
   "outputs": [],
   "source": [
    "start_station_stats = data['Start station number'].value_counts()\n",
    "start_station_stats\n",
    "ss_max = start_station_stats.idxmax()\n",
    "ss_min = start_station_stats.idxmin()\n",
    "\n",
    "print(ss_max)\n",
    "print(ss_min)"
   ]
  },
  {
   "cell_type": "code",
   "execution_count": null,
   "id": "9cb4de9e",
   "metadata": {},
   "outputs": [],
   "source": [
    "end_station_stats = data['End station number'].value_counts()\n",
    "end_station_stats\n",
    "es_max = end_station_stats.idxmax()\n",
    "es_min = end_station_stats.idxmin()\n",
    "\n",
    "print(es_max)\n",
    "print(es_min)"
   ]
  },
  {
   "cell_type": "code",
   "execution_count": null,
   "id": "017ee177",
   "metadata": {},
   "outputs": [],
   "source": [
    "station_name_1 = data[data['Start station number'] == 31623.0]\n",
    "station_name_2 = data[data['Start station number'] == 31933.0]\n",
    "station_name_3 = data[data['End station number'] == 31900.0]\n",
    "\n",
    "# print(len(station_name_1['Start station']))\n",
    "# print (len(station_name_2))\n",
    "print(station_name_3['End station'])\n",
    "\n",
    "#Most and least busy stations"
   ]
  },
  {
   "cell_type": "code",
   "execution_count": null,
   "id": "5f121622",
   "metadata": {},
   "outputs": [],
   "source": [
    "data[\"Member type\"] = data[\"Member type\"].str.lower()\n",
    "member_type = data['Member type'].value_counts()\n",
    "member_type_counts = member_type.to_dict()\n",
    "\n",
    "member_type_counts"
   ]
  },
  {
   "cell_type": "code",
   "execution_count": null,
   "id": "a4422928",
   "metadata": {},
   "outputs": [],
   "source": [
    "plt.pie(member_type, labels=member_type.index, autopct='%1.2f%%', startangle=140)\n",
    "plt.title ('Member Type')\n",
    "plt.axis('equal')\n",
    "plt.show()"
   ]
  },
  {
   "cell_type": "code",
   "execution_count": null,
   "id": "74ac1f18",
   "metadata": {},
   "outputs": [],
   "source": [
    "member =member_type_counts['member']/(member_type_counts['member']+member_type_counts['casual'])*100\n",
    "casual = 100-member\n",
    "\n",
    "print (casual, \"%\")\n",
    "print (member, \"%\")"
   ]
  },
  {
   "cell_type": "code",
   "execution_count": null,
   "id": "da42f2b2",
   "metadata": {},
   "outputs": [],
   "source": []
  }
 ],
 "metadata": {
  "kernelspec": {
   "display_name": "Python 3 (ipykernel)",
   "language": "python",
   "name": "python3"
  },
  "language_info": {
   "codemirror_mode": {
    "name": "ipython",
    "version": 3
   },
   "file_extension": ".py",
   "mimetype": "text/x-python",
   "name": "python",
   "nbconvert_exporter": "python",
   "pygments_lexer": "ipython3",
   "version": "3.9.12"
  }
 },
 "nbformat": 4,
 "nbformat_minor": 5
}
